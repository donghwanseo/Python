{
 "cells": [
  {
   "cell_type": "markdown",
   "metadata": {},
   "source": [
    "# 클래스는 왜 필요한가?\n",
    "---\n",
    "\n",
    "![계산기](calc.png)\n",
    "\n",
    "\n",
    "#### * 계산기는 이전에 계산된 결과값을 기억한다. \n",
    "\n",
    "숫자 5를 입력하고 + 기호를 입력한 후 10을 입력하면 화면에는 15가 나타난다.\n",
    "여기서 다시 한번 100을 입력했을 시 115가 나타난다.\n",
    "\n",
    "이 내용을 구현해보자."
   ]
  },
  {
   "cell_type": "code",
   "execution_count": 29,
   "metadata": {
    "scrolled": true
   },
   "outputs": [
    {
     "name": "stdout",
     "output_type": "stream",
     "text": [
      "5\n",
      "15\n",
      "115\n"
     ]
    }
   ],
   "source": [
    "rslt = 0\n",
    "\n",
    "def add(num) :\n",
    "    global rslt\n",
    "    rslt += num\n",
    "    return rslt\n",
    "\n",
    "print(add(5))\n",
    "print(add(10))\n",
    "print(add(100))"
   ]
  },
  {
   "cell_type": "markdown",
   "metadata": {},
   "source": [
    "#### * 이 때 결과값을 유지하기 위해서 rslt라는 전역 변수를 사용하였다.\n",
    "\n",
    "Q. 만약 두개 계산기가 필요한 경우, 각각의 계산기는 각각의 결과값을 저장해야할 때, 어떻게 할 수 있는가? "
   ]
  },
  {
   "cell_type": "code",
   "execution_count": 15,
   "metadata": {},
   "outputs": [
    {
     "name": "stdout",
     "output_type": "stream",
     "text": [
      "[첫번째 계산기]\n",
      "5\n",
      "15\n",
      "115\n",
      "[두번째 계산기]\n",
      "3\n",
      "9\n",
      "59\n"
     ]
    }
   ],
   "source": [
    "rslt1 = rslt2 = 0\n",
    "\n",
    "def add1(num) :\n",
    "    global rslt1\n",
    "    rslt1 += num\n",
    "    return rslt1\n",
    "\n",
    "def add2(num) :\n",
    "    global rslt2\n",
    "    rslt2 += num\n",
    "    return rslt2\n",
    "\n",
    "print('[첫번째 계산기]')\n",
    "print(add1(5))\n",
    "print(add1(10))\n",
    "print(add1(100))\n",
    "\n",
    "print('[두번째 계산기]')\n",
    "print(add2(3))\n",
    "print(add2(6))\n",
    "print(add2(50))"
   ]
  },
  {
   "cell_type": "markdown",
   "metadata": {},
   "source": [
    "원하는 결과를 얻었지만 계산기가 10개, 100개 필요하다면 똑같은 모양의 함수를 계속해서 만들어야 한다.\n",
    "\n",
    "이때, '클래스'를 이용하면 간단하게 해결할 수 있다."
   ]
  },
  {
   "cell_type": "markdown",
   "metadata": {},
   "source": [
    "### 클래스 기본 구조"
   ]
  },
  {
   "cell_type": "raw",
   "metadata": {},
   "source": [
    "class 클래스이름([상속 클래스명]) :\n",
    "    <클래스 변수1>\n",
    "    <클래스 변수2>\n",
    "    \n",
    "    def __init__(self) :\n",
    "        <수행할 문장 1>\n",
    "        <수행할 문장 2>\n",
    "    \n",
    "    def 메소드명(매개변수) :\n",
    "        <수행할 문장 1>\n",
    "        <수행할 문장 2>\n",
    "        \n",
    "    ..."
   ]
  },
  {
   "cell_type": "code",
   "execution_count": 40,
   "metadata": {},
   "outputs": [],
   "source": [
    "class Calculator :\n",
    "    def __init__(self) :\n",
    "        self.rslt = 0\n",
    "        \n",
    "    def add(self, num) :\n",
    "        self.rslt += num\n",
    "        return self.rslt"
   ]
  },
  {
   "cell_type": "code",
   "execution_count": 41,
   "metadata": {
    "scrolled": true
   },
   "outputs": [
    {
     "name": "stdout",
     "output_type": "stream",
     "text": [
      "[첫번째 계산기]\n",
      "5\n",
      "15\n",
      "115\n",
      "[두번째 계산기]\n",
      "3\n",
      "9\n",
      "59\n"
     ]
    }
   ],
   "source": [
    "calc1 = Calculator()\n",
    "calc2 = Calculator()\n",
    "\n",
    "print('[첫번째 계산기]')\n",
    "print(calc1.add(5))\n",
    "print(calc1.add(10))\n",
    "print(calc1.add(100))\n",
    "\n",
    "print('[두번째 계산기]')\n",
    "print(calc2.add(3))\n",
    "print(calc2.add(6))\n",
    "print(calc2.add(50))"
   ]
  },
  {
   "cell_type": "markdown",
   "metadata": {},
   "source": [
    "![붕어빵](fish.jpg)\n",
    "\n",
    "**붕어빵틀과 붕어빵**\n",
    "* 붕어빵틀 → Class\n",
    "* 붕어빵   → Object\n",
    "\n",
    "클래스에 의해 만들어진 객체는 객체별로 독립적인 성격을 갖는다.\n",
    "손에 쥔 붕어빵을 한 입 먹더라도 다른 붕어빵에는 영향이 없다."
   ]
  },
  {
   "cell_type": "markdown",
   "metadata": {},
   "source": [
    "----\n",
    "다음은 파이썬 Class 가장 간단한 예이다."
   ]
  },
  {
   "cell_type": "code",
   "execution_count": 42,
   "metadata": {},
   "outputs": [],
   "source": [
    "class FishBread :\n",
    "    pass"
   ]
  },
  {
   "cell_type": "markdown",
   "metadata": {},
   "source": [
    "위의 클래스는 아무런 기능을 갖고 있지 않은 껍질뿐인 클래스이다."
   ]
  },
  {
   "cell_type": "code",
   "execution_count": 43,
   "metadata": {},
   "outputs": [],
   "source": [
    "bread1 = FishBread()\n",
    "bread2 = FishBread()\n",
    "bread3 = FishBread()"
   ]
  },
  {
   "cell_type": "markdown",
   "metadata": {},
   "source": [
    "#### 객체와 인스턴스의 차이\n",
    "> 클래스에 의해서 만들어진 객체를 인스턴스라고도 한다.\n",
    "\n",
    "> a = FishBread()\n",
    "\n",
    "> 위의 문장으로 만들어진 a는 **객체**이다. 그리고 a라는 객체는 **FishBread의 인스턴스**이다.\n",
    "\n",
    "> 즉, **인스턴스**라는 말은 어떤 클래스의 객체인지를 관계 위주로 설명할 때 사용된다."
   ]
  },
  {
   "cell_type": "markdown",
   "metadata": {},
   "source": [
    "**isinstance(객체, 클래스)**\n",
    "\n",
    "해당 객체가 해당 클래스의 인스턴지인지 비교한다. (return true or false)\n"
   ]
  },
  {
   "cell_type": "code",
   "execution_count": 44,
   "metadata": {},
   "outputs": [
    {
     "data": {
      "text/plain": [
       "True"
      ]
     },
     "execution_count": 44,
     "metadata": {},
     "output_type": "execute_result"
    }
   ],
   "source": [
    "isinstance(bread1, FishBread)"
   ]
  },
  {
   "cell_type": "code",
   "execution_count": 45,
   "metadata": {
    "scrolled": true
   },
   "outputs": [
    {
     "data": {
      "text/plain": [
       "False"
      ]
     },
     "execution_count": 45,
     "metadata": {},
     "output_type": "execute_result"
    }
   ],
   "source": [
    "isinstance(bread2, Calculator)"
   ]
  },
  {
   "cell_type": "markdown",
   "metadata": {},
   "source": [
    "**type(매개변수)**\n",
    "\n",
    "객체의 데이터타입을 출력한다."
   ]
  },
  {
   "cell_type": "code",
   "execution_count": 46,
   "metadata": {},
   "outputs": [
    {
     "data": {
      "text/plain": [
       "__main__.FishBread"
      ]
     },
     "execution_count": 46,
     "metadata": {},
     "output_type": "execute_result"
    }
   ],
   "source": [
    "type(bread1)"
   ]
  },
  {
   "cell_type": "code",
   "execution_count": 47,
   "metadata": {},
   "outputs": [
    {
     "data": {
      "text/plain": [
       "__main__.Calculator"
      ]
     },
     "execution_count": 47,
     "metadata": {},
     "output_type": "execute_result"
    }
   ],
   "source": [
    "type(calc1)"
   ]
  },
  {
   "cell_type": "markdown",
   "metadata": {},
   "source": [
    "**dir(클래스)** <br>\n",
    "클래스에 내장된 변수와 메소드를 출력한다."
   ]
  },
  {
   "cell_type": "code",
   "execution_count": 48,
   "metadata": {},
   "outputs": [
    {
     "data": {
      "text/plain": [
       "['__class__',\n",
       " '__delattr__',\n",
       " '__dict__',\n",
       " '__dir__',\n",
       " '__doc__',\n",
       " '__eq__',\n",
       " '__format__',\n",
       " '__ge__',\n",
       " '__getattribute__',\n",
       " '__gt__',\n",
       " '__hash__',\n",
       " '__init__',\n",
       " '__init_subclass__',\n",
       " '__le__',\n",
       " '__lt__',\n",
       " '__module__',\n",
       " '__ne__',\n",
       " '__new__',\n",
       " '__reduce__',\n",
       " '__reduce_ex__',\n",
       " '__repr__',\n",
       " '__setattr__',\n",
       " '__sizeof__',\n",
       " '__str__',\n",
       " '__subclasshook__',\n",
       " '__weakref__']"
      ]
     },
     "execution_count": 48,
     "metadata": {},
     "output_type": "execute_result"
    }
   ],
   "source": [
    "dir(FishBread)"
   ]
  },
  {
   "cell_type": "code",
   "execution_count": 49,
   "metadata": {},
   "outputs": [
    {
     "data": {
      "text/plain": [
       "['__class__',\n",
       " '__delattr__',\n",
       " '__dict__',\n",
       " '__dir__',\n",
       " '__doc__',\n",
       " '__eq__',\n",
       " '__format__',\n",
       " '__ge__',\n",
       " '__getattribute__',\n",
       " '__gt__',\n",
       " '__hash__',\n",
       " '__init__',\n",
       " '__init_subclass__',\n",
       " '__le__',\n",
       " '__lt__',\n",
       " '__module__',\n",
       " '__ne__',\n",
       " '__new__',\n",
       " '__reduce__',\n",
       " '__reduce_ex__',\n",
       " '__repr__',\n",
       " '__setattr__',\n",
       " '__sizeof__',\n",
       " '__str__',\n",
       " '__subclasshook__',\n",
       " '__weakref__',\n",
       " 'add']"
      ]
     },
     "execution_count": 49,
     "metadata": {},
     "output_type": "execute_result"
    }
   ],
   "source": [
    "dir(Calculator)"
   ]
  },
  {
   "cell_type": "markdown",
   "metadata": {},
   "source": [
    "----\n",
    "### <p>\\_\\_Init\\_\\_(self)</p>\n",
    "\n",
    "클래스의 인스턴스가 생성될 때 실행되는 메소드. **생성자.** <br>\n",
    "객체의 내부에서 사용할 속성을 초기화한다.\n",
    "\n",
    "#### self\n",
    "\n",
    "self는 아주 중요한 인자이다. 이 인자가 없다면 파이썬은 메서드 호출을 어떤 객체에 적용할지 판단 할 수 없다. <br>\n",
    "파이썬에서는 클래스의 메소드를 정의할 때는 `self`를 꼭 명시해야하고 그 메소드를 불러올 때 self는 자동으로 전달된다."
   ]
  },
  {
   "cell_type": "code",
   "execution_count": 92,
   "metadata": {},
   "outputs": [],
   "source": [
    "class FishBread :\n",
    "    def __init__(self, yourTaste = 'small beans', yourAmt = 1) :\n",
    "        self.taste = yourTaste\n",
    "        self.amt = yourAmt\n",
    "    \n",
    "    def print(self):\n",
    "        print('맛 : {}, 양 : {}'.format(self.taste, self.amt))"
   ]
  },
  {
   "cell_type": "code",
   "execution_count": 93,
   "metadata": {},
   "outputs": [
    {
     "name": "stdout",
     "output_type": "stream",
     "text": [
      "맛 : small beans, 양 : 1\n"
     ]
    }
   ],
   "source": [
    "bread4 = FishBread()\n",
    "bread4.print()"
   ]
  },
  {
   "cell_type": "code",
   "execution_count": 94,
   "metadata": {},
   "outputs": [
    {
     "name": "stdout",
     "output_type": "stream",
     "text": [
      "맛 : chouxCream, 양 : 1\n"
     ]
    }
   ],
   "source": [
    "bread5 = FishBread('chouxCream')\n",
    "bread5.print()"
   ]
  },
  {
   "cell_type": "code",
   "execution_count": 87,
   "metadata": {},
   "outputs": [
    {
     "name": "stdout",
     "output_type": "stream",
     "text": [
      "맛 : cheeze, 양 : 2\n"
     ]
    }
   ],
   "source": [
    "bread6 = FishBread('cheeze', 2)\n",
    "bread6.print()"
   ]
  },
  {
   "cell_type": "code",
   "execution_count": 95,
   "metadata": {},
   "outputs": [
    {
     "name": "stdout",
     "output_type": "stream",
     "text": [
      "맛 : small beans, 양 : 2\n"
     ]
    }
   ],
   "source": [
    "bread7 = FishBread(yourAmt = 2)\n",
    "bread7.print()"
   ]
  },
  {
   "cell_type": "markdown",
   "metadata": {},
   "source": [
    "----\n",
    "### <p>\\_\\_del\\_\\_(self)</p>\n",
    "\n",
    "객체가 소멸될 때 호출되는 메소드. **소멸자.**"
   ]
  },
  {
   "cell_type": "code",
   "execution_count": 102,
   "metadata": {},
   "outputs": [],
   "source": [
    "class FishBread :\n",
    "    def __del__(self) :\n",
    "        print('객체가 소멸합니다.')"
   ]
  },
  {
   "cell_type": "code",
   "execution_count": 103,
   "metadata": {},
   "outputs": [
    {
     "name": "stdout",
     "output_type": "stream",
     "text": [
      "객체가 소멸합니다.\n"
     ]
    }
   ],
   "source": [
    "bread8 = FishBread()\n",
    "del bread8"
   ]
  },
  {
   "cell_type": "markdown",
   "metadata": {},
   "source": [
    "----\n",
    "### 객체변수\n",
    "객체변수는 객체에 정의된 변수를 의미하며 객체간 서로 공유되지 않는다. <br>\n",
    "※ 객체변수는 속성, 멤버변수 또는 인스턴스 변수라 표현한다.\n",
    "    "
   ]
  },
  {
   "cell_type": "code",
   "execution_count": 161,
   "metadata": {},
   "outputs": [],
   "source": [
    "class Person :\n",
    "    def __init__(self, name = '무명', age = 0) :\n",
    "        self.name = name\n",
    "        self.age = age"
   ]
  },
  {
   "cell_type": "code",
   "execution_count": 162,
   "metadata": {},
   "outputs": [
    {
     "name": "stdout",
     "output_type": "stream",
     "text": [
      "서동환\n",
      "20\n"
     ]
    }
   ],
   "source": [
    "donghwan = Person('서동환', 30)\n",
    "\n",
    "print(donghwan.name)\n",
    "\n",
    "donghwan.age = 20\n",
    "\n",
    "print(donghwan.age)"
   ]
  },
  {
   "cell_type": "markdown",
   "metadata": {},
   "source": [
    "기본적으로 **객체.객체변수**의 형태로 인스턴스 변수에 접근이 가능하다. <br>\n",
    "이는 편하지만 위험하다."
   ]
  },
  {
   "cell_type": "code",
   "execution_count": 159,
   "metadata": {},
   "outputs": [],
   "source": [
    "class Person :\n",
    "    def __init__(self, name = '무명', age = 0, pwd = '1234') :\n",
    "        self.name = name\n",
    "        self.age = age\n",
    "        self.__password = pwd"
   ]
  },
  {
   "cell_type": "code",
   "execution_count": 160,
   "metadata": {},
   "outputs": [
    {
     "ename": "AttributeError",
     "evalue": "'Person' object has no attribute '__password'",
     "output_type": "error",
     "traceback": [
      "\u001b[1;31m---------------------------------------------------------------------------\u001b[0m",
      "\u001b[1;31mAttributeError\u001b[0m                            Traceback (most recent call last)",
      "\u001b[1;32m<ipython-input-160-c62a92a49ecc>\u001b[0m in \u001b[0;36m<module>\u001b[1;34m()\u001b[0m\n\u001b[0;32m      1\u001b[0m \u001b[0mdonghwan\u001b[0m \u001b[1;33m=\u001b[0m \u001b[0mPerson\u001b[0m\u001b[1;33m(\u001b[0m\u001b[1;34m'서동환'\u001b[0m\u001b[1;33m,\u001b[0m \u001b[1;36m30\u001b[0m\u001b[1;33m)\u001b[0m\u001b[1;33m\u001b[0m\u001b[0m\n\u001b[1;32m----> 2\u001b[1;33m \u001b[0mprint\u001b[0m\u001b[1;33m(\u001b[0m\u001b[0mdonghwan\u001b[0m\u001b[1;33m.\u001b[0m\u001b[0m__password\u001b[0m\u001b[1;33m)\u001b[0m\u001b[1;33m\u001b[0m\u001b[0m\n\u001b[0m",
      "\u001b[1;31mAttributeError\u001b[0m: 'Person' object has no attribute '__password'"
     ]
    }
   ],
   "source": [
    "donghwan = Person('서동환', 30)\n",
    "print(donghwan.__password)"
   ]
  },
  {
   "cell_type": "markdown",
   "metadata": {},
   "source": [
    "인스턴스 변수 앞에 언더바를 2개(\\_\\_)를 붙여주면 외부에서 접근이 불가하게 된다."
   ]
  },
  {
   "cell_type": "markdown",
   "metadata": {},
   "source": [
    "----\n",
    "### get, set 메소드"
   ]
  },
  {
   "cell_type": "code",
   "execution_count": 228,
   "metadata": {},
   "outputs": [],
   "source": [
    "class Person :\n",
    "    def __init__(self, name = '무명', age = 0, pwd = '1234') :\n",
    "        self.name = name\n",
    "        self.age = age\n",
    "        self.__password = pwd\n",
    "    \n",
    "    def set_password(self, pwd) :\n",
    "        self.__password =  pwd\n",
    "        \n",
    "    def get_password(self) :\n",
    "        return self.__password"
   ]
  },
  {
   "cell_type": "code",
   "execution_count": 229,
   "metadata": {},
   "outputs": [
    {
     "data": {
      "text/plain": [
       "'123456789'"
      ]
     },
     "execution_count": 229,
     "metadata": {},
     "output_type": "execute_result"
    }
   ],
   "source": [
    "donghwan = Person('서동환', 30)\n",
    "donghwan.set_password('123456789')\n",
    "donghwan.get_password()"
   ]
  },
  {
   "cell_type": "markdown",
   "metadata": {},
   "source": [
    "----\n",
    "### @property"
   ]
  },
  {
   "cell_type": "code",
   "execution_count": 168,
   "metadata": {},
   "outputs": [],
   "source": [
    "class Person :\n",
    "    \n",
    "    def __init__(self, name = '무명', age = 0, pwd = '1234') :\n",
    "        self.name = name\n",
    "        self.age = age\n",
    "        self.__password = pwd\n",
    "\n",
    "    @property    \n",
    "    def password(self) :\n",
    "        return self.__password        \n",
    "        \n",
    "    @password.setter\n",
    "    def password(self, pwd) :\n",
    "        self.__password = pwd"
   ]
  },
  {
   "cell_type": "code",
   "execution_count": 170,
   "metadata": {},
   "outputs": [
    {
     "data": {
      "text/plain": [
       "'123456'"
      ]
     },
     "execution_count": 170,
     "metadata": {},
     "output_type": "execute_result"
    }
   ],
   "source": [
    "donghwan = Person('서동환', 30)\n",
    "donghwan.password = '123456'\n",
    "donghwan.password"
   ]
  },
  {
   "cell_type": "markdown",
   "metadata": {},
   "source": [
    "### Why should I use?\n",
    "\n",
    "비밀번호를 설정할때, 대문자 + 소문자 + 특수문자를 포함하여 10자리 이상만 사용할수 있도록 하자."
   ]
  },
  {
   "cell_type": "code",
   "execution_count": 173,
   "metadata": {},
   "outputs": [],
   "source": [
    "# 접근자 미사용\n",
    "class Person :\n",
    "    def __init__(self, name = '무명', age = 0, pwd = '1234') :\n",
    "        self.name = name\n",
    "        self.age = age\n",
    "        self.password = pwd"
   ]
  },
  {
   "cell_type": "code",
   "execution_count": 175,
   "metadata": {},
   "outputs": [],
   "source": [
    "donghwan = Person('서동환', 30)\n",
    "donghwan.password = '1'"
   ]
  },
  {
   "cell_type": "markdown",
   "metadata": {},
   "source": [
    "인스턴스 변수의 값 설정에 있어 조건을 넣을 수가 없다.\n",
    "\n",
    "그렇지만 @property를 이용하면 가능해진다."
   ]
  },
  {
   "cell_type": "code",
   "execution_count": 217,
   "metadata": {},
   "outputs": [],
   "source": [
    "class Person :\n",
    "    \n",
    "    def __init__(self, name = '무명', age = 0, pwd = '1234') :\n",
    "        self.name = name\n",
    "        self.age = age\n",
    "        self.__password = pwd\n",
    "\n",
    "    @property    \n",
    "    def password(self) :\n",
    "        return self.__password        \n",
    "        \n",
    "    @password.setter\n",
    "    def password(self, pwd) :\n",
    "        isLong = isUpper =  isLower = isSpcChr = False \n",
    "        \n",
    "        if len(pwd) >= 10 :\n",
    "            isLong = True\n",
    "        \n",
    "        for chr in pwd :\n",
    "            if chr.isupper() :\n",
    "                isUpper = True     \n",
    "            elif chr.islower() :\n",
    "                isLower = True\n",
    "            elif chr.isnumeric() :\n",
    "                continue\n",
    "            else :\n",
    "                isSpcChr = True\n",
    "        \n",
    "        if isLong and isUpper and isLower and isSpcChr :\n",
    "            print('비밀번호 변경 성공!')\n",
    "            self.__password = pwd\n",
    "        else :\n",
    "            print('실패')\n",
    "          "
   ]
  },
  {
   "cell_type": "code",
   "execution_count": 218,
   "metadata": {},
   "outputs": [
    {
     "name": "stdout",
     "output_type": "stream",
     "text": [
      "실패\n"
     ]
    }
   ],
   "source": [
    "donghwan = Person('서동환', 30)\n",
    "donghwan.password = '1asA'"
   ]
  },
  {
   "cell_type": "code",
   "execution_count": 219,
   "metadata": {},
   "outputs": [
    {
     "name": "stdout",
     "output_type": "stream",
     "text": [
      "실패\n"
     ]
    }
   ],
   "source": [
    "donghwan.password = '1asA!@#'"
   ]
  },
  {
   "cell_type": "code",
   "execution_count": 220,
   "metadata": {},
   "outputs": [
    {
     "name": "stdout",
     "output_type": "stream",
     "text": [
      "비밀번호 변경 성공!\n"
     ]
    }
   ],
   "source": [
    "donghwan.password = '123asdQEW@#$'"
   ]
  },
  {
   "cell_type": "markdown",
   "metadata": {},
   "source": [
    "----\n",
    "### Method\n",
    "클래스에서의 메소드는 크게 3가지 분류로 나뉜다.\n",
    "* Instance method\n",
    "* Class method\n",
    "* Static method"
   ]
  },
  {
   "cell_type": "code",
   "execution_count": 17,
   "metadata": {},
   "outputs": [],
   "source": [
    "class Employee :\n",
    "    raise_amount = 1.5 # 연봉 인상율\n",
    "    \n",
    "    def __init__(self, name, salary) :\n",
    "        self.name = name\n",
    "        self.salary = salary\n",
    "    \n",
    "    # instance method\n",
    "    def add_salary(self) :\n",
    "        self.salary *= self.raise_amount  \n",
    "    \n",
    "    # class method\n",
    "    @classmethod\n",
    "    def chg_raise_amount(cls, amt) :\n",
    "        cls.raise_amount = amt\n",
    "    \n",
    "    @staticmethod\n",
    "    def is_work_day(day):\n",
    "        # weekday() 함수의 리턴값은\n",
    "        # 월: 0, 화: 1, 수: 2, 목: 3, 금: 4, 토: 5, 일: 6\n",
    "        if day.weekday() == 5 or day.weekday() == 6:\n",
    "            return False\n",
    "        return True"
   ]
  },
  {
   "cell_type": "code",
   "execution_count": 18,
   "metadata": {},
   "outputs": [
    {
     "ename": "NameError",
     "evalue": "name 'c' is not defined",
     "output_type": "error",
     "traceback": [
      "\u001b[1;31m---------------------------------------------------------------------------\u001b[0m",
      "\u001b[1;31mNameError\u001b[0m                                 Traceback (most recent call last)",
      "\u001b[1;32m<ipython-input-18-1b6ba97bf2a0>\u001b[0m in \u001b[0;36m<module>\u001b[1;34m()\u001b[0m\n\u001b[1;32m----> 1\u001b[1;33m \u001b[0mEmployee\u001b[0m\u001b[1;33m.\u001b[0m\u001b[0madd_salary\u001b[0m\u001b[1;33m(\u001b[0m\u001b[0mc\u001b[0m\u001b[1;33m)\u001b[0m\u001b[1;33m\u001b[0m\u001b[0m\n\u001b[0m",
      "\u001b[1;31mNameError\u001b[0m: name 'c' is not defined"
     ]
    }
   ],
   "source": [
    "Employee.add_salary(c)"
   ]
  },
  {
   "cell_type": "code",
   "execution_count": 19,
   "metadata": {},
   "outputs": [
    {
     "name": "stdout",
     "output_type": "stream",
     "text": [
      "1500000.0\n"
     ]
    }
   ],
   "source": [
    "a = Employee('서동환', 1000000)\n",
    "b = Employee('현태진', 2000000)\n",
    "\n",
    "a.add_salary()\n",
    "\n",
    "print(a.salary)"
   ]
  },
  {
   "cell_type": "code",
   "execution_count": 20,
   "metadata": {},
   "outputs": [],
   "source": [
    "Employee.chg_raise_amount(2)"
   ]
  },
  {
   "cell_type": "code",
   "execution_count": 21,
   "metadata": {
    "scrolled": true
   },
   "outputs": [
    {
     "name": "stdout",
     "output_type": "stream",
     "text": [
      "서동환의 봉급은 3000000.0원입니다.\n",
      "현태진의 봉급은 4000000원입니다.\n"
     ]
    }
   ],
   "source": [
    "a.add_salary()\n",
    "print('{}의 봉급은 {}원입니다.'.format(a.name,a.salary))\n",
    "\n",
    "b.add_salary()\n",
    "print('{}의 봉급은 {}원입니다.'.format(b.name,b.salary))"
   ]
  },
  {
   "cell_type": "code",
   "execution_count": 22,
   "metadata": {},
   "outputs": [
    {
     "data": {
      "text/plain": [
       "True"
      ]
     },
     "execution_count": 22,
     "metadata": {},
     "output_type": "execute_result"
    }
   ],
   "source": [
    "from datetime import datetime\n",
    "\n",
    "today = datetime.today()\n",
    "\n",
    "Employee.is_work_day(today)"
   ]
  },
  {
   "cell_type": "code",
   "execution_count": 23,
   "metadata": {},
   "outputs": [
    {
     "data": {
      "text/plain": [
       "True"
      ]
     },
     "execution_count": 23,
     "metadata": {},
     "output_type": "execute_result"
    }
   ],
   "source": [
    "a.is_work_day(today)"
   ]
  },
  {
   "cell_type": "code",
   "execution_count": 25,
   "metadata": {
    "scrolled": true
   },
   "outputs": [
    {
     "name": "stdout",
     "output_type": "stream",
     "text": [
      "서동환의 봉급은 9000000.0원입니다.\n",
      "현태진의 봉급은 12000000원입니다.\n"
     ]
    }
   ],
   "source": [
    "a.chg_raise_amount(3)\n",
    "\n",
    "a.add_salary()\n",
    "print('{}의 봉급은 {}원입니다.'.format(a.name,a.salary))\n",
    "\n",
    "b.add_salary()\n",
    "print('{}의 봉급은 {}원입니다.'.format(b.name,b.salary))"
   ]
  },
  {
   "cell_type": "markdown",
   "metadata": {},
   "source": [
    "* 인스턴스 메소드의 첫번째 인자는 언제나 self이다.\n",
    "\n",
    "* 클래스 메소드의 첫번째 인자는 언제나 cls이다.\n"
   ]
  },
  {
   "cell_type": "markdown",
   "metadata": {},
   "source": [
    "####  [문제]\n",
    "계산기 기능을 하는 Calculator 클래스를 만들어보자. <br>\n",
    "덧셈, 뺄셈, 곱셈, 나눗셈을 연산할 때 마다 어떠한 연산을 몇 번 수행 했는지 저장해야 한다. <br>\n",
    "아래 예시를 보고 작성하시오."
   ]
  },
  {
   "cell_type": "markdown",
   "metadata": {},
   "source": [
    "\\>\\> **cal = Calculator()**\n",
    "\n",
    "\\>\\> **print(\"10 + 20 = {}\".format(cal.Add(10,20)))**\n",
    "\n",
    "10 + 20 = 30\n",
    "\n",
    "\\>\\> **print(\"10 - 20 = {}\".format(cal.Min(10,20)))**\n",
    "\n",
    "10 - 20 = -10\n",
    "\n",
    "\\>\\> **print(\"10 * 20 = {}\".format(cal.Mul(10,20)))**\n",
    "\n",
    "10 * 20 = 200\n",
    "\n",
    "\\>\\> **print(\"10 * 10 ={}\".format(cal.Mul(10,10)))**\n",
    "\n",
    "10 * 10 = 100\n",
    "\n",
    "\\>\\> **cal.ShowCount()**\n",
    "\n",
    "덧셈 : 1\n",
    "\n",
    "뺄셈 : 1\n",
    "\n",
    "곱셈 : 2\n",
    "\n",
    "나눗셈 : 0\n"
   ]
  },
  {
   "cell_type": "code",
   "execution_count": 35,
   "metadata": {},
   "outputs": [],
   "source": [
    "class Calculator:\n",
    "    def __init__(self):\n",
    "        self.AddCnt = 0\n",
    "        self.MinCnt = 0\n",
    "        self.MulCnt = 0\n",
    "        self.DivCnt = 0\n",
    "        \n",
    "    def Add(self, num1, num2):\n",
    "        self.AddCnt += 1\n",
    "        return num1 + num2\n",
    "    \n",
    "    def Min(self, num1, num2):\n",
    "        self.MinCnt += 1\n",
    "        return num1 - num2\n",
    "    \n",
    "    def Mul(self, num1, num2):\n",
    "        self.MulCnt += 1\n",
    "        return num1 * num2    \n",
    "    \n",
    "    def Div(self, num1, num2):\n",
    "        self.DivCnt += 1\n",
    "        return num1 / num2\n",
    "    \n",
    "    def ShowCount(self):\n",
    "        print('덧셈 : {}'.format(self.AddCnt))\n",
    "        print('뺄셈 : {}'.format(self.MinCnt))\n",
    "        print('곱셈 : {}'.format(self.MulCnt))\n",
    "        print('나눗셈 : {}'.format(self.DivCnt))"
   ]
  },
  {
   "cell_type": "code",
   "execution_count": 37,
   "metadata": {},
   "outputs": [
    {
     "name": "stdout",
     "output_type": "stream",
     "text": [
      "10 + 20 = 30\n",
      "10 - 20 = -10\n",
      "10 * 20 = 200\n",
      "10 * 10 = 100\n",
      "덧셈 : 1\n",
      "뺄셈 : 1\n",
      "곱셈 : 2\n",
      "나눗셈 : 0\n"
     ]
    }
   ],
   "source": [
    "cal = Calculator()\n",
    "print('10 + 20 = {}'.format(cal.Add(10,20)))\n",
    "print(\"10 - 20 = {}\".format(cal.Min(10,20)))\n",
    "print(\"10 * 20 = {}\".format(cal.Mul(10,20)))\n",
    "print(\"10 * 10 = {}\".format(cal.Mul(10,10)))\n",
    "cal.ShowCount()"
   ]
  },
  {
   "cell_type": "markdown",
   "metadata": {},
   "source": [
    "####  [문제]\n",
    "위의 Calculator 클래스에 Static Method를 추가하여보자.\n",
    "\n",
    "n이 주어졌을 때 n의 팩토리얼인 n!을 구하는 것은 쉽다. 이번에는 n!이 주어졌을 때 n을 구해 보자.\n",
    "\n",
    "Input : 어떤 자연수 n에 대해 n!이 입력으로 주어진다. n!의 자리수는 $10^{6}$ 이하이다.\n"
   ]
  },
  {
   "cell_type": "code",
   "execution_count": 68,
   "metadata": {},
   "outputs": [
    {
     "name": "stdout",
     "output_type": "stream",
     "text": [
      "5\n",
      "8\n",
      "21\n"
     ]
    }
   ],
   "source": [
    "print(Calculator.UnPactorial(120))\n",
    "print(Calculator.UnPactorial(40320))\n",
    "print(Calculator.UnPactorial(51090942171709440000))"
   ]
  },
  {
   "cell_type": "code",
   "execution_count": 69,
   "metadata": {},
   "outputs": [],
   "source": [
    "class Calculator:\n",
    "    def __init__(self):\n",
    "        self.AddCnt = 0\n",
    "        self.MinCnt = 0\n",
    "        self.MulCnt = 0\n",
    "        self.DivCnt = 0\n",
    "        \n",
    "    def Add(self, num1, num2):\n",
    "        self.AddCnt += 1\n",
    "        return num1 + num2\n",
    "    \n",
    "    def Min(self, num1, num2):\n",
    "        self.MinCnt += 1\n",
    "        return num1 - num2\n",
    "    \n",
    "    def Mul(self, num1, num2):\n",
    "        self.MulCnt += 1\n",
    "        return num1 * num2    \n",
    "    \n",
    "    def Div(self, num1, num2):\n",
    "        self.DivCnt += 1\n",
    "        return num1 / num2\n",
    "    \n",
    "    def ShowCount(self):\n",
    "        print('덧셈 : {}'.format(self.AddCnt))\n",
    "        print('뺄셈 : {}'.format(self.MinCnt))\n",
    "        print('곱셈 : {}'.format(self.MulCnt))\n",
    "        print('나눗셈 : {}'.format(self.DivCnt))\n",
    "    \n",
    "    @staticmethod\n",
    "    def UnPactorial(num):\n",
    "        i = 1\n",
    "        while num > 1 :\n",
    "            num = num / i\n",
    "            \n",
    "            if num == 1 :\n",
    "                return i\n",
    "            \n",
    "            i += 1            "
   ]
  },
  {
   "cell_type": "markdown",
   "metadata": {},
   "source": [
    "---- \n",
    "### 상속\n",
    "상속은 흔히 우리가 알고 있는 '유산을 상속하다'의 상속과 비슷한 개념이다.\n",
    "\n",
    "**부모 클래스**가 존재하고 그 부모 클래스를 상속받은 **자식클래스**를 만들 수 있다.\n",
    "자식클래스는 부모클래스가 가진 **함수**나 **변수**를 물려 받아 자식 클래스에서 그대로 사용할 수 있다."
   ]
  },
  {
   "cell_type": "code",
   "execution_count": 97,
   "metadata": {},
   "outputs": [],
   "source": [
    "class Person:\n",
    "    def __init__(self, name, age):\n",
    "        self.name = name\n",
    "        self.age = age\n",
    "    \n",
    "    def info(self):\n",
    "        print('이름 : {}, 나이 : {}'.format(self.name, self.age))\n",
    "\n",
    "class Employee(Person):\n",
    "    pass"
   ]
  },
  {
   "cell_type": "code",
   "execution_count": 98,
   "metadata": {},
   "outputs": [
    {
     "name": "stdout",
     "output_type": "stream",
     "text": [
      "서동환\n",
      "이름 : 서동환, 나이 : 30\n"
     ]
    }
   ],
   "source": [
    "firstMan = Employee('서동환', 30)\n",
    "print(firstMan.name)\n",
    "firstMan.info()"
   ]
  },
  {
   "cell_type": "code",
   "execution_count": 99,
   "metadata": {},
   "outputs": [
    {
     "data": {
      "text/plain": [
       "['__class__',\n",
       " '__delattr__',\n",
       " '__dict__',\n",
       " '__dir__',\n",
       " '__doc__',\n",
       " '__eq__',\n",
       " '__format__',\n",
       " '__ge__',\n",
       " '__getattribute__',\n",
       " '__gt__',\n",
       " '__hash__',\n",
       " '__init__',\n",
       " '__init_subclass__',\n",
       " '__le__',\n",
       " '__lt__',\n",
       " '__module__',\n",
       " '__ne__',\n",
       " '__new__',\n",
       " '__reduce__',\n",
       " '__reduce_ex__',\n",
       " '__repr__',\n",
       " '__setattr__',\n",
       " '__sizeof__',\n",
       " '__str__',\n",
       " '__subclasshook__',\n",
       " '__weakref__',\n",
       " 'age',\n",
       " 'info',\n",
       " 'name']"
      ]
     },
     "execution_count": 99,
     "metadata": {},
     "output_type": "execute_result"
    }
   ],
   "source": [
    "dir(firstMan)"
   ]
  },
  {
   "cell_type": "markdown",
   "metadata": {},
   "source": [
    "부모에게 물려받은 메소드를 변형도 가능하다. 이를 **메소드 오버라이딩(overriding)**이라고 한다."
   ]
  },
  {
   "cell_type": "code",
   "execution_count": 100,
   "metadata": {},
   "outputs": [],
   "source": [
    "class Person:\n",
    "    def __init__(self, name, age):\n",
    "        self.name = name\n",
    "        self.age = age\n",
    "    \n",
    "    def info(self):\n",
    "        print('이름 : {}, 나이 : {}'.format(self.name, self.age))\n",
    "\n",
    "class Employee(Person):\n",
    "    def __init__(self, name, age, dept):\n",
    "        super().__init__(name, age)\n",
    "        self.dept = dept\n",
    "    \n",
    "    def info(self):\n",
    "        print('직원이름 : {}, 나이 : {}, 부서 : {}'.format(self.name, self.age, self.dept))"
   ]
  },
  {
   "cell_type": "code",
   "execution_count": 101,
   "metadata": {},
   "outputs": [
    {
     "name": "stdout",
     "output_type": "stream",
     "text": [
      "직원이름 : 서동환, 나이 : 30, 부서 : 전산실\n"
     ]
    }
   ],
   "source": [
    "secondMan = Employee('서동환', 30, '전산실')\n",
    "secondMan.info()"
   ]
  },
  {
   "cell_type": "markdown",
   "metadata": {},
   "source": [
    "####  [문제]\n",
    "블로그를 참고해서 각 도형을 그려주는 클래스을 만들어보자.  <br>\n",
    "http://andamiro25.tistory.com/17"
   ]
  },
  {
   "cell_type": "raw",
   "metadata": {},
   "source": [
    "Figure - 클래스 이름 (별도 인자는 받지 않음)\n",
    "\n",
    "draw_shape(shape, color, x, y)\n",
    "    \n",
    "    shape 파라미터 - 도형 모양 의미 (string)\n",
    "        삼각형 그리기 - \"triangle\"\n",
    "        사각형 그리기 - \"quadrangle\"\n",
    "        오각형 그리기 - \"pentagon\"\n",
    "        육각형 그리기 - \"hexagon\"\n",
    "        원 그리기 - \"circle\"\n",
    "\n",
    "    Color 파라미터 - 도형 색상 의미 (string)\n",
    "        빨강 - \"red\"\n",
    "        파랑 - \"blue\"\n",
    "        검정 - \"black\"\n",
    "\n",
    "    x, y 파라미터 - 좌표를 의미 (숫자)\n",
    "\n",
    "clear_shape()\n",
    "    도형 삭제 (Turtle 라이브러리의 reset() 메서드 활용)\n",
    "\n",
    "move_shape()\n",
    "    기존 도형을 삭제된 듯 보이게하고, 새로운 위치에 동일한 도형을 그려주면 됨\n",
    "    \n",
    "done()\n",
    "     turtle.done()\n",
    "     작업완료 후 필수로 호출해준다."
   ]
  },
  {
   "cell_type": "code",
   "execution_count": null,
   "metadata": {},
   "outputs": [],
   "source": [
    "f = Figure()\n",
    "f.draw_shape('circle', 'red', 0, 0)\n",
    "f.move_shape(100, 100)\n",
    "f.done()"
   ]
  },
  {
   "cell_type": "code",
   "execution_count": 2,
   "metadata": {},
   "outputs": [],
   "source": [
    "import turtle as t\n",
    "\n",
    "class Figure:\n",
    "    def __init__(self):\n",
    "        self.shape = ''\n",
    "        self.color = ''\n",
    "    \n",
    "    def draw_shape(self, shape, color, x = 0, y = 0):\n",
    "        self.shape = shape\n",
    "        self.color = color\n",
    "        \n",
    "        # 커서 모양을 거북이로 변경\n",
    "        t.shape('turtle')\n",
    "        \n",
    "        t.speed(1)\n",
    "        t.color(color) \n",
    "        t.penup()\n",
    "        t.goto(x, y)\n",
    "        t.pendown()\n",
    "        if shape == 'triangle' :\n",
    "            t.circle(40, steps = 3)\n",
    "        elif shape == 'quadrangle':\n",
    "            t.circle(40, steps = 4)\n",
    "        elif shape == 'pentagon':\n",
    "            t.circle(40, steps = 5)\n",
    "        elif shape == 'hexagon':\n",
    "            t.circle(40, steps = 6)\n",
    "        elif shape == 'circle':\n",
    "            t.circle(40)   \n",
    "        #거북이를 안보이게 한다.    \n",
    "        t.hideturtle()    \n",
    "        \n",
    "    \n",
    "    def clear_shape(self):\n",
    "        t.reset()\n",
    "    \n",
    "    def move_shape(self, x, y):\n",
    "        self.clear_shape()\n",
    "        self.draw_shape(self.shape, self.color, x, y)\n",
    "        \n",
    "    def done(self):\n",
    "        t.done()"
   ]
  },
  {
   "cell_type": "code",
   "execution_count": 5,
   "metadata": {},
   "outputs": [],
   "source": [
    "f = Figure()\n",
    "f.draw_shape('circle', 'red', 0, 0)\n",
    "f.move_shape(50, 50)\n",
    "f.done()"
   ]
  },
  {
   "cell_type": "code",
   "execution_count": null,
   "metadata": {},
   "outputs": [],
   "source": []
  }
 ],
 "metadata": {
  "kernelspec": {
   "display_name": "Python 3",
   "language": "python",
   "name": "python3"
  },
  "language_info": {
   "codemirror_mode": {
    "name": "ipython",
    "version": 3
   },
   "file_extension": ".py",
   "mimetype": "text/x-python",
   "name": "python",
   "nbconvert_exporter": "python",
   "pygments_lexer": "ipython3",
   "version": "3.6.4"
  }
 },
 "nbformat": 4,
 "nbformat_minor": 2
}
