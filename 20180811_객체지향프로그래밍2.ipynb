{
 "cells": [
  {
   "cell_type": "markdown",
   "metadata": {},
   "source": [
    "\n",
    "# 상속\n",
    "상속은 흔히 우리가 알고 있는 '유산을 상속하다'의 상속과 비슷한 개념이다.\n",
    "\n",
    "**부모 클래스**가 존재하고 그 부모 클래스를 상속받은 **자식클래스**를 만들 수 있다.\n",
    "자식클래스는 부모클래스가 가진 **함수**나 **변수**를 물려 받아 자식 클래스에서 그대로 사용할 수 있다."
   ]
  },
  {
   "cell_type": "code",
   "execution_count": 5,
   "metadata": {},
   "outputs": [],
   "source": [
    "class Person:\n",
    "    def __init__(self, name, age):\n",
    "        self.name = name\n",
    "        self.age = age\n",
    "    \n",
    "    def info(self):\n",
    "        print('이름 : {}, 나이 : {}'.format(self.name, self.age))\n",
    "\n",
    "# Person 클래스를 상속받은 Employee 클래스\n",
    "class Employee(Person):\n",
    "    pass"
   ]
  },
  {
   "cell_type": "code",
   "execution_count": 6,
   "metadata": {},
   "outputs": [
    {
     "name": "stdout",
     "output_type": "stream",
     "text": [
      "서동환\n",
      "이름 : 서동환, 나이 : 30\n"
     ]
    }
   ],
   "source": [
    "firstMan = Employee('서동환', 30)\n",
    "print(firstMan.name)\n",
    "firstMan.info()"
   ]
  },
  {
   "cell_type": "code",
   "execution_count": 8,
   "metadata": {
    "scrolled": true
   },
   "outputs": [
    {
     "data": {
      "text/plain": [
       "['__class__',\n",
       " '__delattr__',\n",
       " '__dict__',\n",
       " '__dir__',\n",
       " '__doc__',\n",
       " '__eq__',\n",
       " '__format__',\n",
       " '__ge__',\n",
       " '__getattribute__',\n",
       " '__gt__',\n",
       " '__hash__',\n",
       " '__init__',\n",
       " '__init_subclass__',\n",
       " '__le__',\n",
       " '__lt__',\n",
       " '__module__',\n",
       " '__ne__',\n",
       " '__new__',\n",
       " '__reduce__',\n",
       " '__reduce_ex__',\n",
       " '__repr__',\n",
       " '__setattr__',\n",
       " '__sizeof__',\n",
       " '__str__',\n",
       " '__subclasshook__',\n",
       " '__weakref__',\n",
       " 'age',\n",
       " 'info',\n",
       " 'name']"
      ]
     },
     "execution_count": 8,
     "metadata": {},
     "output_type": "execute_result"
    }
   ],
   "source": [
    "dir(firstMan)"
   ]
  },
  {
   "cell_type": "code",
   "execution_count": 42,
   "metadata": {},
   "outputs": [],
   "source": [
    "class Person:\n",
    "    def __init__(self, name, age):\n",
    "        self.name = name\n",
    "        self.age = age\n",
    "    \n",
    "    def info(self):\n",
    "        print('이름 : {}, 나이 : {}'.format(self.name, self.age))\n",
    "\n",
    "class Employee(Person):\n",
    "    # Override\n",
    "    def __init__(self, name, age, dept):\n",
    "        super().__init__(name, age)\n",
    "        self.dept = dept\n",
    "    \n",
    "    def info(self):\n",
    "        print('직원이름 : {}, 나이 : {}, 부서 : {}'.format(self.name, self.age, self.dept))"
   ]
  },
  {
   "cell_type": "code",
   "execution_count": 5,
   "metadata": {},
   "outputs": [
    {
     "name": "stdout",
     "output_type": "stream",
     "text": [
      "직원이름 : 서동환, 나이 : 30, 부서 : 전산실\n"
     ]
    }
   ],
   "source": [
    "secondMan = Employee('서동환', 30, '전산실')\n",
    "secondMan.info()"
   ]
  },
  {
   "cell_type": "markdown",
   "metadata": {},
   "source": [
    "### 왜 상속이라는 개념을 사용하는걸까? \n",
    "\n",
    "![생물분류](biology.png)\n",
    "\n",
    "기반 클래스의 능력을 그대로 활용하면서 새로운 클래스를 만들 때 사용한다. \n",
    "\n",
    "그냥 새로운 클래스를 만들면 되지 왜 이러한 상속 개념을 만들었을까? 만약 새로운 기능이 필요할 때마다 계속 클래스를 만들게 된다면 중복되는 부분을 계속하여 만들어야 한다. 이럴때 상속을 사용하면 중복되는 기능을 만들지 않아도 된다. 따라서 상속은 기존 기능을 재사용 할 수 있어서 효율적이다."
   ]
  },
  {
   "cell_type": "markdown",
   "metadata": {},
   "source": [
    "# 다중상속"
   ]
  },
  {
   "cell_type": "code",
   "execution_count": 33,
   "metadata": {},
   "outputs": [],
   "source": [
    "class Father:\n",
    "    def __init__(self):\n",
    "        self.eye_color = 'blue'\n",
    "    \n",
    "    def eat(self):\n",
    "        print('먹어요')\n",
    "    \n",
    "class Mother:\n",
    "    def __init__(self):\n",
    "        self.hair_color = 'black'\n",
    "    \n",
    "    def sleep(self):\n",
    "        print('자요')\n",
    "\n",
    "# Father, Mother 클래스를 상속받은 Child 클래스\n",
    "class Child(Father, Mother):\n",
    "    pass"
   ]
  },
  {
   "cell_type": "code",
   "execution_count": 34,
   "metadata": {},
   "outputs": [
    {
     "name": "stdout",
     "output_type": "stream",
     "text": [
      "자요\n",
      "먹어요\n"
     ]
    }
   ],
   "source": [
    "child1 = Child()\n",
    "\n",
    "child1.sleep()\n",
    "child1.eat()"
   ]
  },
  {
   "cell_type": "markdown",
   "metadata": {},
   "source": [
    "**그러나, 부모의 클래스에 같은 이름의 메소드가 존재하면 첫번째 부모의 메소드만 호출이 된다.**"
   ]
  },
  {
   "cell_type": "code",
   "execution_count": 35,
   "metadata": {},
   "outputs": [
    {
     "data": {
      "text/plain": [
       "{'eye_color': 'blue'}"
      ]
     },
     "execution_count": 35,
     "metadata": {},
     "output_type": "execute_result"
    }
   ],
   "source": [
    "child1.__dict__"
   ]
  },
  {
   "cell_type": "code",
   "execution_count": 37,
   "metadata": {},
   "outputs": [],
   "source": [
    "class Father:\n",
    "    def __init__(self):\n",
    "        self.eye_color = 'blue'\n",
    "    \n",
    "    def eat(self):\n",
    "        print('먹어요')\n",
    "    \n",
    "class Mother:\n",
    "    def __init__(self):\n",
    "        self.hair_color = 'black'\n",
    "    \n",
    "    def sleep(self):\n",
    "        print('자요')\n",
    "\n",
    "# Father, Mother 클래스를 상속받은 Child 클래스\n",
    "class Child(Father, Mother):\n",
    "    # 기본 상속된 메소드의 형태\n",
    "    def __init__(self):\n",
    "        super().__init__()"
   ]
  },
  {
   "cell_type": "markdown",
   "metadata": {},
   "source": [
    "----\n",
    "다중 상속의 경우 부모의 클래스에 같은 이름의 메소드가 존재한다면, 자식의 클래스에서 교통정리를 해주어야 한다."
   ]
  },
  {
   "cell_type": "code",
   "execution_count": 40,
   "metadata": {},
   "outputs": [],
   "source": [
    "class Father:\n",
    "    def __init__(self):\n",
    "        self.eye_color = 'blue'\n",
    "    \n",
    "    def eat(self):\n",
    "        print('먹어요')\n",
    "    \n",
    "class Mother:\n",
    "    def __init__(self):\n",
    "        self.hair_color = 'black'\n",
    "    \n",
    "    def sleep(self):\n",
    "        print('자요')\n",
    "\n",
    "# Father, Mother 클래스를 상속받은 Child 클래스\n",
    "class Child(Father, Mother):\n",
    "    def __init__(self):\n",
    "        Father.__init__(self)\n",
    "        Mother.__init__(self)"
   ]
  },
  {
   "cell_type": "code",
   "execution_count": 41,
   "metadata": {},
   "outputs": [
    {
     "data": {
      "text/plain": [
       "{'eye_color': 'blue', 'hair_color': 'black'}"
      ]
     },
     "execution_count": 41,
     "metadata": {},
     "output_type": "execute_result"
    }
   ],
   "source": [
    "child2 = Child()\n",
    "\n",
    "child2.__dict__"
   ]
  },
  {
   "cell_type": "markdown",
   "metadata": {},
   "source": [
    "#### [문제]\n",
    "\n",
    "1. '전화번호부'라는 이름의 클래스를 만들어보자.  PhoneBook\n",
    "2. 초기화 메소드를 통해 '이름', '번호', '사는곳', '사진' 변수를 초기화하여 보자.\n",
    "3. 해당 정보를 출력해주는 메소드를 만들어보자.\n",
    "4. 'BestFriend'라는 이름의 클래스를 만들어('전화번호부'클래스를 상속), '나이', '성별' 변수를 추가하고, 전화를 거는 Call()이란 메소드를 만들고, 그 친구와 연락횟수를 출력하는 메소드는 만들어보자."
   ]
  },
  {
   "cell_type": "code",
   "execution_count": null,
   "metadata": {},
   "outputs": [],
   "source": []
  }
 ],
 "metadata": {
  "kernelspec": {
   "display_name": "Python 3",
   "language": "python",
   "name": "python3"
  },
  "language_info": {
   "codemirror_mode": {
    "name": "ipython",
    "version": 3
   },
   "file_extension": ".py",
   "mimetype": "text/x-python",
   "name": "python",
   "nbconvert_exporter": "python",
   "pygments_lexer": "ipython3",
   "version": "3.6.4"
  }
 },
 "nbformat": 4,
 "nbformat_minor": 2
}
